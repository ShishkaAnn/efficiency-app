{
 "cells": [
  {
   "cell_type": "code",
   "execution_count": 147,
   "metadata": {
    "collapsed": true
   },
   "outputs": [],
   "source": [
    "# -- This notebook provides a reference for techniques which are often used"
   ]
  },
  {
   "cell_type": "code",
   "execution_count": 206,
   "metadata": {
    "collapsed": true
   },
   "outputs": [],
   "source": [
    "# -- common imports needed\n",
    "import sqlalchemy\n",
    "import datetime as dt\n",
    "import time\n",
    "import numpy as np\n",
    "import pandas as pd \n",
    "import json"
   ]
  },
  {
   "cell_type": "code",
   "execution_count": 207,
   "metadata": {
    "collapsed": true
   },
   "outputs": [],
   "source": [
    "# -- Make pandas show all columns, rows\n",
    "pd.set_option('display.max_columns', None)\n",
    "pd.set_option('display.max_rows', None)"
   ]
  },
  {
   "cell_type": "code",
   "execution_count": 208,
   "metadata": {},
   "outputs": [
    {
     "data": {
      "text/html": [
       "<div>\n",
       "<table border=\"1\" class=\"dataframe\">\n",
       "  <thead>\n",
       "    <tr style=\"text-align: right;\">\n",
       "      <th></th>\n",
       "      <th>weight</th>\n",
       "      <th>animal</th>\n",
       "      <th>age</th>\n",
       "    </tr>\n",
       "  </thead>\n",
       "  <tbody>\n",
       "    <tr>\n",
       "      <th>0</th>\n",
       "      <td>14</td>\n",
       "      <td>dog</td>\n",
       "      <td>10</td>\n",
       "    </tr>\n",
       "    <tr>\n",
       "      <th>1</th>\n",
       "      <td>4</td>\n",
       "      <td>cat</td>\n",
       "      <td>15</td>\n",
       "    </tr>\n",
       "    <tr>\n",
       "      <th>2</th>\n",
       "      <td>100</td>\n",
       "      <td>pig</td>\n",
       "      <td>6</td>\n",
       "    </tr>\n",
       "    <tr>\n",
       "      <th>3</th>\n",
       "      <td>400</td>\n",
       "      <td>horse</td>\n",
       "      <td>3</td>\n",
       "    </tr>\n",
       "  </tbody>\n",
       "</table>\n",
       "</div>"
      ],
      "text/plain": [
       "   weight animal  age\n",
       "0      14    dog   10\n",
       "1       4    cat   15\n",
       "2     100    pig    6\n",
       "3     400  horse    3"
      ]
     },
     "execution_count": 208,
     "metadata": {},
     "output_type": "execute_result"
    }
   ],
   "source": [
    "# -- create a dataframe \n",
    "list_columns = ['weight', 'animal', 'age']\n",
    "list_data = [\n",
    "    [14, 'dog', 10],\n",
    "    [4, 'cat', 15],\n",
    "    [100, 'pig', 6],\n",
    "    [400, 'horse', 3]\n",
    "    ]\n",
    "df_animals = pd.DataFrame(columns=list_columns, data=list_data)\n",
    "df_animals.head()"
   ]
  },
  {
   "cell_type": "code",
   "execution_count": 209,
   "metadata": {},
   "outputs": [
    {
     "data": {
      "text/html": [
       "<div>\n",
       "<table border=\"1\" class=\"dataframe\">\n",
       "  <thead>\n",
       "    <tr style=\"text-align: right;\">\n",
       "      <th></th>\n",
       "      <th>wght_kg</th>\n",
       "      <th>animal</th>\n",
       "      <th>age_yrs</th>\n",
       "    </tr>\n",
       "  </thead>\n",
       "  <tbody>\n",
       "    <tr>\n",
       "      <th>0</th>\n",
       "      <td>14</td>\n",
       "      <td>dog</td>\n",
       "      <td>10</td>\n",
       "    </tr>\n",
       "    <tr>\n",
       "      <th>1</th>\n",
       "      <td>4</td>\n",
       "      <td>cat</td>\n",
       "      <td>15</td>\n",
       "    </tr>\n",
       "    <tr>\n",
       "      <th>2</th>\n",
       "      <td>100</td>\n",
       "      <td>pig</td>\n",
       "      <td>6</td>\n",
       "    </tr>\n",
       "    <tr>\n",
       "      <th>3</th>\n",
       "      <td>400</td>\n",
       "      <td>horse</td>\n",
       "      <td>3</td>\n",
       "    </tr>\n",
       "  </tbody>\n",
       "</table>\n",
       "</div>"
      ],
      "text/plain": [
       "   wght_kg animal  age_yrs\n",
       "0       14    dog       10\n",
       "1        4    cat       15\n",
       "2      100    pig        6\n",
       "3      400  horse        3"
      ]
     },
     "execution_count": 209,
     "metadata": {},
     "output_type": "execute_result"
    }
   ],
   "source": [
    "# -- rename columns\n",
    "df_animals = df_animals.rename(columns={'weight': 'wght_kg', 'age': 'age_yrs'})\n",
    "df_animals.head()"
   ]
  },
  {
   "cell_type": "code",
   "execution_count": 210,
   "metadata": {
    "collapsed": true
   },
   "outputs": [],
   "source": [
    "# -- just a fuction to get a new fresh dataframe\n",
    "def get_new_animals():\n",
    "    list_columns = ['weight', 'animal', 'age']\n",
    "    list_data = [\n",
    "        [14, 'dog', 10],\n",
    "        [4, 'cat', 15],\n",
    "        [100, 'pig', 6],\n",
    "        [400, 'horse', 3]\n",
    "        ]\n",
    "    return pd.DataFrame(columns=list_columns, data=list_data)"
   ]
  },
  {
   "cell_type": "code",
   "execution_count": 211,
   "metadata": {
    "collapsed": true
   },
   "outputs": [],
   "source": [
    "# -- just a fuction to get a new dataframe for merging\n",
    "def get_new_merge_df():\n",
    "    list_columns = ['name', 'town']\n",
    "    list_data = [\n",
    "        ['dog', 'London'],\n",
    "        ['cat', 'Milan'],\n",
    "        ['dog', 'Paris'],\n",
    "        ['duck', 'Milano']\n",
    "        ]\n",
    "    return pd.DataFrame(columns=list_columns, data=list_data)"
   ]
  },
  {
   "cell_type": "code",
   "execution_count": 212,
   "metadata": {},
   "outputs": [
    {
     "data": {
      "text/html": [
       "<div>\n",
       "<table border=\"1\" class=\"dataframe\">\n",
       "  <thead>\n",
       "    <tr style=\"text-align: right;\">\n",
       "      <th></th>\n",
       "      <th>wght_kg</th>\n",
       "      <th>animal</th>\n",
       "      <th>age_yrs</th>\n",
       "    </tr>\n",
       "  </thead>\n",
       "  <tbody>\n",
       "    <tr>\n",
       "      <th>0</th>\n",
       "      <td>14</td>\n",
       "      <td>dog</td>\n",
       "      <td>10</td>\n",
       "    </tr>\n",
       "    <tr>\n",
       "      <th>1</th>\n",
       "      <td>4</td>\n",
       "      <td>cat</td>\n",
       "      <td>15</td>\n",
       "    </tr>\n",
       "  </tbody>\n",
       "</table>\n",
       "</div>"
      ],
      "text/plain": [
       "   wght_kg animal  age_yrs\n",
       "0       14    dog       10\n",
       "1        4    cat       15"
      ]
     },
     "execution_count": 212,
     "metadata": {},
     "output_type": "execute_result"
    }
   ],
   "source": [
    "# -- slice (select) certain values, eg age > 9\n",
    "df_age = df_animals[df_animals.age_yrs > 9]\n",
    "df_age.head()"
   ]
  },
  {
   "cell_type": "code",
   "execution_count": 213,
   "metadata": {
    "scrolled": true
   },
   "outputs": [
    {
     "data": {
      "text/html": [
       "<div>\n",
       "<table border=\"1\" class=\"dataframe\">\n",
       "  <thead>\n",
       "    <tr style=\"text-align: right;\">\n",
       "      <th></th>\n",
       "      <th>wght_kg</th>\n",
       "      <th>animal</th>\n",
       "      <th>age_yrs</th>\n",
       "    </tr>\n",
       "  </thead>\n",
       "  <tbody>\n",
       "    <tr>\n",
       "      <th>0</th>\n",
       "      <td>14</td>\n",
       "      <td>dog</td>\n",
       "      <td>10</td>\n",
       "    </tr>\n",
       "    <tr>\n",
       "      <th>1</th>\n",
       "      <td>4</td>\n",
       "      <td>cat</td>\n",
       "      <td>15</td>\n",
       "    </tr>\n",
       "    <tr>\n",
       "      <th>2</th>\n",
       "      <td>100</td>\n",
       "      <td>pig</td>\n",
       "      <td>6</td>\n",
       "    </tr>\n",
       "  </tbody>\n",
       "</table>\n",
       "</div>"
      ],
      "text/plain": [
       "   wght_kg animal  age_yrs\n",
       "0       14    dog       10\n",
       "1        4    cat       15\n",
       "2      100    pig        6"
      ]
     },
     "execution_count": 213,
     "metadata": {},
     "output_type": "execute_result"
    }
   ],
   "source": [
    "# -- slice (select) certain values more than one criteria, age > 3 and < 15\n",
    "df_age = df_animals[(df_animals.age_yrs > 3)&(df_animals.age_yrs > 3)]\n",
    "df_age.head()"
   ]
  },
  {
   "cell_type": "code",
   "execution_count": 214,
   "metadata": {},
   "outputs": [
    {
     "data": {
      "text/html": [
       "<div>\n",
       "<table border=\"1\" class=\"dataframe\">\n",
       "  <thead>\n",
       "    <tr style=\"text-align: right;\">\n",
       "      <th></th>\n",
       "      <th>wght_kg</th>\n",
       "      <th>animal</th>\n",
       "      <th>age_yrs</th>\n",
       "    </tr>\n",
       "  </thead>\n",
       "  <tbody>\n",
       "    <tr>\n",
       "      <th>2</th>\n",
       "      <td>100</td>\n",
       "      <td>pig</td>\n",
       "      <td>6</td>\n",
       "    </tr>\n",
       "    <tr>\n",
       "      <th>3</th>\n",
       "      <td>400</td>\n",
       "      <td>horse</td>\n",
       "      <td>3</td>\n",
       "    </tr>\n",
       "  </tbody>\n",
       "</table>\n",
       "</div>"
      ],
      "text/plain": [
       "   wght_kg animal  age_yrs\n",
       "2      100    pig        6\n",
       "3      400  horse        3"
      ]
     },
     "execution_count": 214,
     "metadata": {},
     "output_type": "execute_result"
    }
   ],
   "source": [
    "# -- slice (select) certain values that are in a list\n",
    "list_ages = [1,2,3,4,5,6,7,8,9]\n",
    "df_age = df_animals[df_animals.age_yrs.isin(list_ages)]\n",
    "df_age.head()"
   ]
  },
  {
   "cell_type": "code",
   "execution_count": 215,
   "metadata": {},
   "outputs": [
    {
     "data": {
      "text/html": [
       "<div>\n",
       "<table border=\"1\" class=\"dataframe\">\n",
       "  <thead>\n",
       "    <tr style=\"text-align: right;\">\n",
       "      <th></th>\n",
       "      <th>wght_kg</th>\n",
       "      <th>animal</th>\n",
       "      <th>age_yrs</th>\n",
       "      <th>new_col</th>\n",
       "    </tr>\n",
       "  </thead>\n",
       "  <tbody>\n",
       "    <tr>\n",
       "      <th>0</th>\n",
       "      <td>14</td>\n",
       "      <td>dog</td>\n",
       "      <td>10</td>\n",
       "      <td>0</td>\n",
       "    </tr>\n",
       "    <tr>\n",
       "      <th>1</th>\n",
       "      <td>4</td>\n",
       "      <td>cat</td>\n",
       "      <td>15</td>\n",
       "      <td>0</td>\n",
       "    </tr>\n",
       "    <tr>\n",
       "      <th>2</th>\n",
       "      <td>100</td>\n",
       "      <td>pig</td>\n",
       "      <td>6</td>\n",
       "      <td>0</td>\n",
       "    </tr>\n",
       "    <tr>\n",
       "      <th>3</th>\n",
       "      <td>400</td>\n",
       "      <td>horse</td>\n",
       "      <td>3</td>\n",
       "      <td>0</td>\n",
       "    </tr>\n",
       "  </tbody>\n",
       "</table>\n",
       "</div>"
      ],
      "text/plain": [
       "   wght_kg animal  age_yrs  new_col\n",
       "0       14    dog       10        0\n",
       "1        4    cat       15        0\n",
       "2      100    pig        6        0\n",
       "3      400  horse        3        0"
      ]
     },
     "execution_count": 215,
     "metadata": {},
     "output_type": "execute_result"
    }
   ],
   "source": [
    "# -- add a new column\n",
    "df_animals['new_col'] = 0\n",
    "df_animals.head()"
   ]
  },
  {
   "cell_type": "code",
   "execution_count": 216,
   "metadata": {},
   "outputs": [
    {
     "data": {
      "text/html": [
       "<div>\n",
       "<table border=\"1\" class=\"dataframe\">\n",
       "  <thead>\n",
       "    <tr style=\"text-align: right;\">\n",
       "      <th></th>\n",
       "      <th>wght_kg</th>\n",
       "      <th>animal</th>\n",
       "      <th>age_yrs</th>\n",
       "    </tr>\n",
       "  </thead>\n",
       "  <tbody>\n",
       "    <tr>\n",
       "      <th>0</th>\n",
       "      <td>14</td>\n",
       "      <td>dog</td>\n",
       "      <td>10</td>\n",
       "    </tr>\n",
       "    <tr>\n",
       "      <th>1</th>\n",
       "      <td>4</td>\n",
       "      <td>cat</td>\n",
       "      <td>15</td>\n",
       "    </tr>\n",
       "    <tr>\n",
       "      <th>2</th>\n",
       "      <td>100</td>\n",
       "      <td>pig</td>\n",
       "      <td>6</td>\n",
       "    </tr>\n",
       "    <tr>\n",
       "      <th>3</th>\n",
       "      <td>400</td>\n",
       "      <td>horse</td>\n",
       "      <td>3</td>\n",
       "    </tr>\n",
       "  </tbody>\n",
       "</table>\n",
       "</div>"
      ],
      "text/plain": [
       "   wght_kg animal  age_yrs\n",
       "0       14    dog       10\n",
       "1        4    cat       15\n",
       "2      100    pig        6\n",
       "3      400  horse        3"
      ]
     },
     "execution_count": 216,
     "metadata": {},
     "output_type": "execute_result"
    }
   ],
   "source": [
    "# -- drop / delete a column\n",
    "df_animals = df_animals.drop(['new_col'], axis=1)\n",
    "df_animals.head()"
   ]
  },
  {
   "cell_type": "code",
   "execution_count": 217,
   "metadata": {},
   "outputs": [
    {
     "data": {
      "text/html": [
       "<div>\n",
       "<table border=\"1\" class=\"dataframe\">\n",
       "  <thead>\n",
       "    <tr style=\"text-align: right;\">\n",
       "      <th></th>\n",
       "      <th>weight</th>\n",
       "      <th>animal</th>\n",
       "      <th>age</th>\n",
       "    </tr>\n",
       "  </thead>\n",
       "  <tbody>\n",
       "    <tr>\n",
       "      <th>0</th>\n",
       "      <td>14</td>\n",
       "      <td>dog</td>\n",
       "      <td>10</td>\n",
       "    </tr>\n",
       "    <tr>\n",
       "      <th>1</th>\n",
       "      <td>4</td>\n",
       "      <td>cat</td>\n",
       "      <td>15</td>\n",
       "    </tr>\n",
       "  </tbody>\n",
       "</table>\n",
       "</div>"
      ],
      "text/plain": [
       "   weight animal  age\n",
       "0      14    dog   10\n",
       "1       4    cat   15"
      ]
     },
     "execution_count": 217,
     "metadata": {},
     "output_type": "execute_result"
    }
   ],
   "source": [
    "df_animals = get_new_animals()\n",
    "df_animals.head(2)"
   ]
  },
  {
   "cell_type": "code",
   "execution_count": 218,
   "metadata": {},
   "outputs": [
    {
     "data": {
      "text/html": [
       "<div>\n",
       "<table border=\"1\" class=\"dataframe\">\n",
       "  <thead>\n",
       "    <tr style=\"text-align: right;\">\n",
       "      <th></th>\n",
       "      <th>age</th>\n",
       "    </tr>\n",
       "  </thead>\n",
       "  <tbody>\n",
       "    <tr>\n",
       "      <th>0</th>\n",
       "      <td>10</td>\n",
       "    </tr>\n",
       "    <tr>\n",
       "      <th>1</th>\n",
       "      <td>15</td>\n",
       "    </tr>\n",
       "    <tr>\n",
       "      <th>2</th>\n",
       "      <td>6</td>\n",
       "    </tr>\n",
       "    <tr>\n",
       "      <th>3</th>\n",
       "      <td>3</td>\n",
       "    </tr>\n",
       "  </tbody>\n",
       "</table>\n",
       "</div>"
      ],
      "text/plain": [
       "   age\n",
       "0   10\n",
       "1   15\n",
       "2    6\n",
       "3    3"
      ]
     },
     "execution_count": 218,
     "metadata": {},
     "output_type": "execute_result"
    }
   ],
   "source": [
    "# -- drop / delete many columns\n",
    "df_animals = df_animals.drop(['weight', 'animal'], axis=1)\n",
    "df_animals.head()"
   ]
  },
  {
   "cell_type": "code",
   "execution_count": 219,
   "metadata": {},
   "outputs": [
    {
     "data": {
      "text/html": [
       "<div>\n",
       "<table border=\"1\" class=\"dataframe\">\n",
       "  <thead>\n",
       "    <tr style=\"text-align: right;\">\n",
       "      <th></th>\n",
       "      <th>weight</th>\n",
       "      <th>animal</th>\n",
       "      <th>age</th>\n",
       "    </tr>\n",
       "  </thead>\n",
       "  <tbody>\n",
       "    <tr>\n",
       "      <th>0</th>\n",
       "      <td>14</td>\n",
       "      <td>dog</td>\n",
       "      <td>10</td>\n",
       "    </tr>\n",
       "    <tr>\n",
       "      <th>1</th>\n",
       "      <td>4</td>\n",
       "      <td>cat</td>\n",
       "      <td>15</td>\n",
       "    </tr>\n",
       "  </tbody>\n",
       "</table>\n",
       "</div>"
      ],
      "text/plain": [
       "   weight animal  age\n",
       "0      14    dog   10\n",
       "1       4    cat   15"
      ]
     },
     "execution_count": 219,
     "metadata": {},
     "output_type": "execute_result"
    }
   ],
   "source": [
    "df_animals = get_new_animals()\n",
    "df_animals.head(2)"
   ]
  },
  {
   "cell_type": "code",
   "execution_count": 220,
   "metadata": {},
   "outputs": [
    {
     "data": {
      "text/html": [
       "<div>\n",
       "<table border=\"1\" class=\"dataframe\">\n",
       "  <thead>\n",
       "    <tr style=\"text-align: right;\">\n",
       "      <th></th>\n",
       "      <th>weight</th>\n",
       "      <th>animal</th>\n",
       "      <th>age</th>\n",
       "    </tr>\n",
       "  </thead>\n",
       "  <tbody>\n",
       "    <tr>\n",
       "      <th>0</th>\n",
       "      <td>14</td>\n",
       "      <td>dog</td>\n",
       "      <td>10</td>\n",
       "    </tr>\n",
       "    <tr>\n",
       "      <th>1</th>\n",
       "      <td>4</td>\n",
       "      <td>cat</td>\n",
       "      <td>15</td>\n",
       "    </tr>\n",
       "    <tr>\n",
       "      <th>2</th>\n",
       "      <td>100</td>\n",
       "      <td>pig</td>\n",
       "      <td>6</td>\n",
       "    </tr>\n",
       "    <tr>\n",
       "      <th>3</th>\n",
       "      <td>400</td>\n",
       "      <td>horse</td>\n",
       "      <td>3</td>\n",
       "    </tr>\n",
       "  </tbody>\n",
       "</table>\n",
       "</div>"
      ],
      "text/plain": [
       "   weight animal  age\n",
       "0      14    dog   10\n",
       "1       4    cat   15\n",
       "2     100    pig    6\n",
       "3     400  horse    3"
      ]
     },
     "execution_count": 220,
     "metadata": {},
     "output_type": "execute_result"
    }
   ],
   "source": [
    "df_animals.head()"
   ]
  },
  {
   "cell_type": "code",
   "execution_count": 221,
   "metadata": {},
   "outputs": [
    {
     "data": {
      "text/html": [
       "<div>\n",
       "<table border=\"1\" class=\"dataframe\">\n",
       "  <thead>\n",
       "    <tr style=\"text-align: right;\">\n",
       "      <th></th>\n",
       "      <th>weight</th>\n",
       "      <th>animal</th>\n",
       "      <th>age</th>\n",
       "      <th>shortname</th>\n",
       "    </tr>\n",
       "  </thead>\n",
       "  <tbody>\n",
       "    <tr>\n",
       "      <th>0</th>\n",
       "      <td>14</td>\n",
       "      <td>dog</td>\n",
       "      <td>10</td>\n",
       "      <td>d</td>\n",
       "    </tr>\n",
       "    <tr>\n",
       "      <th>1</th>\n",
       "      <td>4</td>\n",
       "      <td>cat</td>\n",
       "      <td>15</td>\n",
       "      <td>c</td>\n",
       "    </tr>\n",
       "    <tr>\n",
       "      <th>2</th>\n",
       "      <td>100</td>\n",
       "      <td>pig</td>\n",
       "      <td>6</td>\n",
       "      <td>p</td>\n",
       "    </tr>\n",
       "    <tr>\n",
       "      <th>3</th>\n",
       "      <td>400</td>\n",
       "      <td>horse</td>\n",
       "      <td>3</td>\n",
       "      <td>hor</td>\n",
       "    </tr>\n",
       "  </tbody>\n",
       "</table>\n",
       "</div>"
      ],
      "text/plain": [
       "   weight animal  age shortname\n",
       "0      14    dog   10         d\n",
       "1       4    cat   15         c\n",
       "2     100    pig    6         p\n",
       "3     400  horse    3       hor"
      ]
     },
     "execution_count": 221,
     "metadata": {},
     "output_type": "execute_result"
    }
   ],
   "source": [
    "# -- list comprehension ex. 1\n",
    "df_animals['shortname'] =[ x[:-2] for x in df_animals['animal']]\n",
    "df_animals.head()"
   ]
  },
  {
   "cell_type": "code",
   "execution_count": 222,
   "metadata": {},
   "outputs": [
    {
     "data": {
      "text/html": [
       "<div>\n",
       "<table border=\"1\" class=\"dataframe\">\n",
       "  <thead>\n",
       "    <tr style=\"text-align: right;\">\n",
       "      <th></th>\n",
       "      <th>weight</th>\n",
       "      <th>animal</th>\n",
       "      <th>age</th>\n",
       "      <th>shortname</th>\n",
       "      <th>10_or_over</th>\n",
       "    </tr>\n",
       "  </thead>\n",
       "  <tbody>\n",
       "    <tr>\n",
       "      <th>0</th>\n",
       "      <td>14</td>\n",
       "      <td>dog</td>\n",
       "      <td>10</td>\n",
       "      <td>d</td>\n",
       "      <td>True</td>\n",
       "    </tr>\n",
       "    <tr>\n",
       "      <th>1</th>\n",
       "      <td>4</td>\n",
       "      <td>cat</td>\n",
       "      <td>15</td>\n",
       "      <td>c</td>\n",
       "      <td>True</td>\n",
       "    </tr>\n",
       "    <tr>\n",
       "      <th>2</th>\n",
       "      <td>100</td>\n",
       "      <td>pig</td>\n",
       "      <td>6</td>\n",
       "      <td>p</td>\n",
       "      <td>False</td>\n",
       "    </tr>\n",
       "    <tr>\n",
       "      <th>3</th>\n",
       "      <td>400</td>\n",
       "      <td>horse</td>\n",
       "      <td>3</td>\n",
       "      <td>hor</td>\n",
       "      <td>False</td>\n",
       "    </tr>\n",
       "  </tbody>\n",
       "</table>\n",
       "</div>"
      ],
      "text/plain": [
       "   weight animal  age shortname 10_or_over\n",
       "0      14    dog   10         d       True\n",
       "1       4    cat   15         c       True\n",
       "2     100    pig    6         p      False\n",
       "3     400  horse    3       hor      False"
      ]
     },
     "execution_count": 222,
     "metadata": {},
     "output_type": "execute_result"
    }
   ],
   "source": [
    "# -- list comprehension ex. 2\n",
    "df_animals['10_or_over'] = [True if x > 9 else False for x in df_animals['age']]\n",
    "df_animals.head()"
   ]
  },
  {
   "cell_type": "code",
   "execution_count": 223,
   "metadata": {},
   "outputs": [
    {
     "data": {
      "text/plain": [
       "weight         int64\n",
       "animal        object\n",
       "age            int64\n",
       "shortname     object\n",
       "10_or_over      bool\n",
       "dtype: object"
      ]
     },
     "execution_count": 223,
     "metadata": {},
     "output_type": "execute_result"
    }
   ],
   "source": [
    "# -- list the types\n",
    "df_animals.dtypes"
   ]
  },
  {
   "cell_type": "code",
   "execution_count": 224,
   "metadata": {
    "collapsed": true
   },
   "outputs": [],
   "source": [
    "# -- change the 10_or_over type to an integer\n",
    "df_animals['10_or_over'] = df_animals['10_or_over'].astype(int)"
   ]
  },
  {
   "cell_type": "code",
   "execution_count": 225,
   "metadata": {},
   "outputs": [
    {
     "data": {
      "text/html": [
       "<div>\n",
       "<table border=\"1\" class=\"dataframe\">\n",
       "  <thead>\n",
       "    <tr style=\"text-align: right;\">\n",
       "      <th></th>\n",
       "      <th>weight</th>\n",
       "      <th>animal</th>\n",
       "      <th>age</th>\n",
       "      <th>shortname</th>\n",
       "      <th>10_or_over</th>\n",
       "    </tr>\n",
       "  </thead>\n",
       "  <tbody>\n",
       "    <tr>\n",
       "      <th>0</th>\n",
       "      <td>14</td>\n",
       "      <td>dog</td>\n",
       "      <td>10</td>\n",
       "      <td>d</td>\n",
       "      <td>1</td>\n",
       "    </tr>\n",
       "    <tr>\n",
       "      <th>1</th>\n",
       "      <td>4</td>\n",
       "      <td>cat</td>\n",
       "      <td>15</td>\n",
       "      <td>c</td>\n",
       "      <td>1</td>\n",
       "    </tr>\n",
       "    <tr>\n",
       "      <th>2</th>\n",
       "      <td>100</td>\n",
       "      <td>pig</td>\n",
       "      <td>6</td>\n",
       "      <td>p</td>\n",
       "      <td>0</td>\n",
       "    </tr>\n",
       "    <tr>\n",
       "      <th>3</th>\n",
       "      <td>400</td>\n",
       "      <td>horse</td>\n",
       "      <td>3</td>\n",
       "      <td>hor</td>\n",
       "      <td>0</td>\n",
       "    </tr>\n",
       "  </tbody>\n",
       "</table>\n",
       "</div>"
      ],
      "text/plain": [
       "   weight animal  age shortname  10_or_over\n",
       "0      14    dog   10         d           1\n",
       "1       4    cat   15         c           1\n",
       "2     100    pig    6         p           0\n",
       "3     400  horse    3       hor           0"
      ]
     },
     "execution_count": 225,
     "metadata": {},
     "output_type": "execute_result"
    }
   ],
   "source": [
    "df_animals.head()"
   ]
  },
  {
   "cell_type": "code",
   "execution_count": 226,
   "metadata": {},
   "outputs": [
    {
     "data": {
      "text/plain": [
       "weight         int64\n",
       "animal        object\n",
       "age            int64\n",
       "shortname     object\n",
       "10_or_over     int64\n",
       "dtype: object"
      ]
     },
     "execution_count": 226,
     "metadata": {},
     "output_type": "execute_result"
    }
   ],
   "source": [
    "df_animals.dtypes"
   ]
  },
  {
   "cell_type": "code",
   "execution_count": 227,
   "metadata": {
    "collapsed": true
   },
   "outputs": [],
   "source": [
    "# -- change the 10_or_over type to a string\n",
    "df_animals['10_or_over'] = df_animals['10_or_over'].astype(str)"
   ]
  },
  {
   "cell_type": "code",
   "execution_count": 228,
   "metadata": {
    "scrolled": true
   },
   "outputs": [
    {
     "data": {
      "text/plain": [
       "weight         int64\n",
       "animal        object\n",
       "age            int64\n",
       "shortname     object\n",
       "10_or_over    object\n",
       "dtype: object"
      ]
     },
     "execution_count": 228,
     "metadata": {},
     "output_type": "execute_result"
    }
   ],
   "source": [
    "df_animals.dtypes"
   ]
  },
  {
   "cell_type": "code",
   "execution_count": 229,
   "metadata": {
    "collapsed": true
   },
   "outputs": [],
   "source": [
    "# -- pad number with leading zeros (up to 7)\n",
    "df_animals['10_or_over'] = df_animals['10_or_over'].apply(lambda x: x.zfill(7))"
   ]
  },
  {
   "cell_type": "code",
   "execution_count": 230,
   "metadata": {},
   "outputs": [
    {
     "data": {
      "text/html": [
       "<div>\n",
       "<table border=\"1\" class=\"dataframe\">\n",
       "  <thead>\n",
       "    <tr style=\"text-align: right;\">\n",
       "      <th></th>\n",
       "      <th>weight</th>\n",
       "      <th>animal</th>\n",
       "      <th>age</th>\n",
       "      <th>shortname</th>\n",
       "      <th>10_or_over</th>\n",
       "    </tr>\n",
       "  </thead>\n",
       "  <tbody>\n",
       "    <tr>\n",
       "      <th>0</th>\n",
       "      <td>14</td>\n",
       "      <td>dog</td>\n",
       "      <td>10</td>\n",
       "      <td>d</td>\n",
       "      <td>0000001</td>\n",
       "    </tr>\n",
       "    <tr>\n",
       "      <th>1</th>\n",
       "      <td>4</td>\n",
       "      <td>cat</td>\n",
       "      <td>15</td>\n",
       "      <td>c</td>\n",
       "      <td>0000001</td>\n",
       "    </tr>\n",
       "    <tr>\n",
       "      <th>2</th>\n",
       "      <td>100</td>\n",
       "      <td>pig</td>\n",
       "      <td>6</td>\n",
       "      <td>p</td>\n",
       "      <td>0000000</td>\n",
       "    </tr>\n",
       "    <tr>\n",
       "      <th>3</th>\n",
       "      <td>400</td>\n",
       "      <td>horse</td>\n",
       "      <td>3</td>\n",
       "      <td>hor</td>\n",
       "      <td>0000000</td>\n",
       "    </tr>\n",
       "  </tbody>\n",
       "</table>\n",
       "</div>"
      ],
      "text/plain": [
       "   weight animal  age shortname 10_or_over\n",
       "0      14    dog   10         d    0000001\n",
       "1       4    cat   15         c    0000001\n",
       "2     100    pig    6         p    0000000\n",
       "3     400  horse    3       hor    0000000"
      ]
     },
     "execution_count": 230,
     "metadata": {},
     "output_type": "execute_result"
    }
   ],
   "source": [
    "df_animals.head()"
   ]
  },
  {
   "cell_type": "code",
   "execution_count": 231,
   "metadata": {},
   "outputs": [
    {
     "data": {
      "text/html": [
       "<div>\n",
       "<table border=\"1\" class=\"dataframe\">\n",
       "  <thead>\n",
       "    <tr style=\"text-align: right;\">\n",
       "      <th></th>\n",
       "      <th>animal</th>\n",
       "      <th>weight</th>\n",
       "    </tr>\n",
       "  </thead>\n",
       "  <tbody>\n",
       "    <tr>\n",
       "      <th>0</th>\n",
       "      <td>dog</td>\n",
       "      <td>14</td>\n",
       "    </tr>\n",
       "    <tr>\n",
       "      <th>1</th>\n",
       "      <td>cat</td>\n",
       "      <td>4</td>\n",
       "    </tr>\n",
       "    <tr>\n",
       "      <th>2</th>\n",
       "      <td>pig</td>\n",
       "      <td>100</td>\n",
       "    </tr>\n",
       "    <tr>\n",
       "      <th>3</th>\n",
       "      <td>horse</td>\n",
       "      <td>400</td>\n",
       "    </tr>\n",
       "  </tbody>\n",
       "</table>\n",
       "</div>"
      ],
      "text/plain": [
       "  animal  weight\n",
       "0    dog      14\n",
       "1    cat       4\n",
       "2    pig     100\n",
       "3  horse     400"
      ]
     },
     "execution_count": 231,
     "metadata": {},
     "output_type": "execute_result"
    }
   ],
   "source": [
    "# -- select specific columns\n",
    "animals_spec = df_animals[['animal', 'weight']]\n",
    "animals_spec.head()"
   ]
  },
  {
   "cell_type": "code",
   "execution_count": 232,
   "metadata": {
    "collapsed": true
   },
   "outputs": [],
   "source": [
    "# -- apply a function to create a new column from existing values\n",
    "def reverse_name(row):\n",
    "    return row['animal'][::-1]"
   ]
  },
  {
   "cell_type": "code",
   "execution_count": 233,
   "metadata": {},
   "outputs": [
    {
     "name": "stderr",
     "output_type": "stream",
     "text": [
      "/usr/local/lib/python2.7/site-packages/ipykernel/__main__.py:1: SettingWithCopyWarning: \n",
      "A value is trying to be set on a copy of a slice from a DataFrame.\n",
      "Try using .loc[row_indexer,col_indexer] = value instead\n",
      "\n",
      "See the caveats in the documentation: http://pandas.pydata.org/pandas-docs/stable/indexing.html#indexing-view-versus-copy\n",
      "  if __name__ == '__main__':\n"
     ]
    }
   ],
   "source": [
    "animals_spec['reversed'] = animals_spec.apply(reverse_name, axis=1)"
   ]
  },
  {
   "cell_type": "code",
   "execution_count": 234,
   "metadata": {},
   "outputs": [
    {
     "data": {
      "text/html": [
       "<div>\n",
       "<table border=\"1\" class=\"dataframe\">\n",
       "  <thead>\n",
       "    <tr style=\"text-align: right;\">\n",
       "      <th></th>\n",
       "      <th>animal</th>\n",
       "      <th>weight</th>\n",
       "      <th>reversed</th>\n",
       "    </tr>\n",
       "  </thead>\n",
       "  <tbody>\n",
       "    <tr>\n",
       "      <th>0</th>\n",
       "      <td>dog</td>\n",
       "      <td>14</td>\n",
       "      <td>god</td>\n",
       "    </tr>\n",
       "    <tr>\n",
       "      <th>1</th>\n",
       "      <td>cat</td>\n",
       "      <td>4</td>\n",
       "      <td>tac</td>\n",
       "    </tr>\n",
       "    <tr>\n",
       "      <th>2</th>\n",
       "      <td>pig</td>\n",
       "      <td>100</td>\n",
       "      <td>gip</td>\n",
       "    </tr>\n",
       "    <tr>\n",
       "      <th>3</th>\n",
       "      <td>horse</td>\n",
       "      <td>400</td>\n",
       "      <td>esroh</td>\n",
       "    </tr>\n",
       "  </tbody>\n",
       "</table>\n",
       "</div>"
      ],
      "text/plain": [
       "  animal  weight reversed\n",
       "0    dog      14      god\n",
       "1    cat       4      tac\n",
       "2    pig     100      gip\n",
       "3  horse     400    esroh"
      ]
     },
     "execution_count": 234,
     "metadata": {},
     "output_type": "execute_result"
    }
   ],
   "source": [
    "animals_spec.head()"
   ]
  },
  {
   "cell_type": "code",
   "execution_count": 235,
   "metadata": {
    "collapsed": true
   },
   "outputs": [],
   "source": [
    "df_animals = get_new_animals()"
   ]
  },
  {
   "cell_type": "code",
   "execution_count": 236,
   "metadata": {},
   "outputs": [
    {
     "data": {
      "text/html": [
       "<div>\n",
       "<table border=\"1\" class=\"dataframe\">\n",
       "  <thead>\n",
       "    <tr style=\"text-align: right;\">\n",
       "      <th></th>\n",
       "      <th>name</th>\n",
       "      <th>town</th>\n",
       "    </tr>\n",
       "  </thead>\n",
       "  <tbody>\n",
       "    <tr>\n",
       "      <th>0</th>\n",
       "      <td>dog</td>\n",
       "      <td>London</td>\n",
       "    </tr>\n",
       "    <tr>\n",
       "      <th>1</th>\n",
       "      <td>cat</td>\n",
       "      <td>Milan</td>\n",
       "    </tr>\n",
       "    <tr>\n",
       "      <th>2</th>\n",
       "      <td>dog</td>\n",
       "      <td>Paris</td>\n",
       "    </tr>\n",
       "    <tr>\n",
       "      <th>3</th>\n",
       "      <td>duck</td>\n",
       "      <td>Milano</td>\n",
       "    </tr>\n",
       "  </tbody>\n",
       "</table>\n",
       "</div>"
      ],
      "text/plain": [
       "   name    town\n",
       "0   dog  London\n",
       "1   cat   Milan\n",
       "2   dog   Paris\n",
       "3  duck  Milano"
      ]
     },
     "execution_count": 236,
     "metadata": {},
     "output_type": "execute_result"
    }
   ],
   "source": [
    "# -- Merging - we need a new dataframe to merge with\n",
    "df_to_merge = get_new_merge_df()\n",
    "df_to_merge.head()"
   ]
  },
  {
   "cell_type": "code",
   "execution_count": 179,
   "metadata": {
    "collapsed": true
   },
   "outputs": [],
   "source": [
    "# -- Merge with inner join\n",
    "df_inner_merge = pd.merge(left=df_animals,\n",
    "                         right=df_to_merge,\n",
    "                         left_on='animal',\n",
    "                         right_on='name',\n",
    "                         how='inner')"
   ]
  },
  {
   "cell_type": "code",
   "execution_count": 180,
   "metadata": {},
   "outputs": [
    {
     "data": {
      "text/html": [
       "<div>\n",
       "<table border=\"1\" class=\"dataframe\">\n",
       "  <thead>\n",
       "    <tr style=\"text-align: right;\">\n",
       "      <th></th>\n",
       "      <th>weight</th>\n",
       "      <th>animal</th>\n",
       "      <th>age</th>\n",
       "      <th>name</th>\n",
       "      <th>town</th>\n",
       "    </tr>\n",
       "  </thead>\n",
       "  <tbody>\n",
       "    <tr>\n",
       "      <th>0</th>\n",
       "      <td>14</td>\n",
       "      <td>dog</td>\n",
       "      <td>10</td>\n",
       "      <td>dog</td>\n",
       "      <td>London</td>\n",
       "    </tr>\n",
       "    <tr>\n",
       "      <th>1</th>\n",
       "      <td>14</td>\n",
       "      <td>dog</td>\n",
       "      <td>10</td>\n",
       "      <td>dog</td>\n",
       "      <td>Paris</td>\n",
       "    </tr>\n",
       "    <tr>\n",
       "      <th>2</th>\n",
       "      <td>4</td>\n",
       "      <td>cat</td>\n",
       "      <td>15</td>\n",
       "      <td>cat</td>\n",
       "      <td>Milan</td>\n",
       "    </tr>\n",
       "  </tbody>\n",
       "</table>\n",
       "</div>"
      ],
      "text/plain": [
       "   weight animal  age name    town\n",
       "0      14    dog   10  dog  London\n",
       "1      14    dog   10  dog   Paris\n",
       "2       4    cat   15  cat   Milan"
      ]
     },
     "execution_count": 180,
     "metadata": {},
     "output_type": "execute_result"
    }
   ],
   "source": [
    "df_inner_merge.head()"
   ]
  },
  {
   "cell_type": "code",
   "execution_count": 181,
   "metadata": {
    "collapsed": true
   },
   "outputs": [],
   "source": [
    "# -- Merge with left join\n",
    "df_left_merge = pd.merge(left=df_animals,\n",
    "                         right=df_to_merge,\n",
    "                         left_on='animal',\n",
    "                         right_on='name',\n",
    "                         how='left')"
   ]
  },
  {
   "cell_type": "code",
   "execution_count": 182,
   "metadata": {},
   "outputs": [
    {
     "data": {
      "text/html": [
       "<div>\n",
       "<table border=\"1\" class=\"dataframe\">\n",
       "  <thead>\n",
       "    <tr style=\"text-align: right;\">\n",
       "      <th></th>\n",
       "      <th>weight</th>\n",
       "      <th>animal</th>\n",
       "      <th>age</th>\n",
       "      <th>name</th>\n",
       "      <th>town</th>\n",
       "    </tr>\n",
       "  </thead>\n",
       "  <tbody>\n",
       "    <tr>\n",
       "      <th>0</th>\n",
       "      <td>14</td>\n",
       "      <td>dog</td>\n",
       "      <td>10</td>\n",
       "      <td>dog</td>\n",
       "      <td>London</td>\n",
       "    </tr>\n",
       "    <tr>\n",
       "      <th>1</th>\n",
       "      <td>14</td>\n",
       "      <td>dog</td>\n",
       "      <td>10</td>\n",
       "      <td>dog</td>\n",
       "      <td>Paris</td>\n",
       "    </tr>\n",
       "    <tr>\n",
       "      <th>2</th>\n",
       "      <td>4</td>\n",
       "      <td>cat</td>\n",
       "      <td>15</td>\n",
       "      <td>cat</td>\n",
       "      <td>Milan</td>\n",
       "    </tr>\n",
       "    <tr>\n",
       "      <th>3</th>\n",
       "      <td>100</td>\n",
       "      <td>pig</td>\n",
       "      <td>6</td>\n",
       "      <td>NaN</td>\n",
       "      <td>NaN</td>\n",
       "    </tr>\n",
       "    <tr>\n",
       "      <th>4</th>\n",
       "      <td>400</td>\n",
       "      <td>horse</td>\n",
       "      <td>3</td>\n",
       "      <td>NaN</td>\n",
       "      <td>NaN</td>\n",
       "    </tr>\n",
       "  </tbody>\n",
       "</table>\n",
       "</div>"
      ],
      "text/plain": [
       "   weight animal  age name    town\n",
       "0      14    dog   10  dog  London\n",
       "1      14    dog   10  dog   Paris\n",
       "2       4    cat   15  cat   Milan\n",
       "3     100    pig    6  NaN     NaN\n",
       "4     400  horse    3  NaN     NaN"
      ]
     },
     "execution_count": 182,
     "metadata": {},
     "output_type": "execute_result"
    }
   ],
   "source": [
    "df_left_merge.head()"
   ]
  },
  {
   "cell_type": "code",
   "execution_count": 183,
   "metadata": {
    "collapsed": true
   },
   "outputs": [],
   "source": [
    "# -- replace NaN with a string for a specific column\n",
    "df_left_merge['name'].fillna('Empty', inplace=True)"
   ]
  },
  {
   "cell_type": "code",
   "execution_count": 184,
   "metadata": {},
   "outputs": [
    {
     "data": {
      "text/html": [
       "<div>\n",
       "<table border=\"1\" class=\"dataframe\">\n",
       "  <thead>\n",
       "    <tr style=\"text-align: right;\">\n",
       "      <th></th>\n",
       "      <th>weight</th>\n",
       "      <th>animal</th>\n",
       "      <th>age</th>\n",
       "      <th>name</th>\n",
       "      <th>town</th>\n",
       "    </tr>\n",
       "  </thead>\n",
       "  <tbody>\n",
       "    <tr>\n",
       "      <th>0</th>\n",
       "      <td>14</td>\n",
       "      <td>dog</td>\n",
       "      <td>10</td>\n",
       "      <td>dog</td>\n",
       "      <td>London</td>\n",
       "    </tr>\n",
       "    <tr>\n",
       "      <th>1</th>\n",
       "      <td>14</td>\n",
       "      <td>dog</td>\n",
       "      <td>10</td>\n",
       "      <td>dog</td>\n",
       "      <td>Paris</td>\n",
       "    </tr>\n",
       "    <tr>\n",
       "      <th>2</th>\n",
       "      <td>4</td>\n",
       "      <td>cat</td>\n",
       "      <td>15</td>\n",
       "      <td>cat</td>\n",
       "      <td>Milan</td>\n",
       "    </tr>\n",
       "    <tr>\n",
       "      <th>3</th>\n",
       "      <td>100</td>\n",
       "      <td>pig</td>\n",
       "      <td>6</td>\n",
       "      <td>Empty</td>\n",
       "      <td>NaN</td>\n",
       "    </tr>\n",
       "    <tr>\n",
       "      <th>4</th>\n",
       "      <td>400</td>\n",
       "      <td>horse</td>\n",
       "      <td>3</td>\n",
       "      <td>Empty</td>\n",
       "      <td>NaN</td>\n",
       "    </tr>\n",
       "  </tbody>\n",
       "</table>\n",
       "</div>"
      ],
      "text/plain": [
       "   weight animal  age   name    town\n",
       "0      14    dog   10    dog  London\n",
       "1      14    dog   10    dog   Paris\n",
       "2       4    cat   15    cat   Milan\n",
       "3     100    pig    6  Empty     NaN\n",
       "4     400  horse    3  Empty     NaN"
      ]
     },
     "execution_count": 184,
     "metadata": {},
     "output_type": "execute_result"
    }
   ],
   "source": [
    "df_left_merge.head()"
   ]
  },
  {
   "cell_type": "code",
   "execution_count": 185,
   "metadata": {},
   "outputs": [],
   "source": [
    "# function to get merged df\n",
    "def get_left_merged(df_l, df_r):\n",
    "    return pd.merge(left=df_l,\n",
    "                         right=df_r,\n",
    "                         left_on='animal',\n",
    "                         right_on='name',\n",
    "                         how='left')"
   ]
  },
  {
   "cell_type": "code",
   "execution_count": 186,
   "metadata": {
    "collapsed": true
   },
   "outputs": [],
   "source": [
    "# -- replace NaN with a string for a all columns\n",
    "df_left_merge.fillna('Empty', inplace=True)"
   ]
  },
  {
   "cell_type": "code",
   "execution_count": 187,
   "metadata": {},
   "outputs": [
    {
     "data": {
      "text/html": [
       "<div>\n",
       "<table border=\"1\" class=\"dataframe\">\n",
       "  <thead>\n",
       "    <tr style=\"text-align: right;\">\n",
       "      <th></th>\n",
       "      <th>weight</th>\n",
       "      <th>animal</th>\n",
       "      <th>age</th>\n",
       "      <th>name</th>\n",
       "      <th>town</th>\n",
       "    </tr>\n",
       "  </thead>\n",
       "  <tbody>\n",
       "    <tr>\n",
       "      <th>0</th>\n",
       "      <td>14</td>\n",
       "      <td>dog</td>\n",
       "      <td>10</td>\n",
       "      <td>dog</td>\n",
       "      <td>London</td>\n",
       "    </tr>\n",
       "    <tr>\n",
       "      <th>1</th>\n",
       "      <td>14</td>\n",
       "      <td>dog</td>\n",
       "      <td>10</td>\n",
       "      <td>dog</td>\n",
       "      <td>Paris</td>\n",
       "    </tr>\n",
       "    <tr>\n",
       "      <th>2</th>\n",
       "      <td>4</td>\n",
       "      <td>cat</td>\n",
       "      <td>15</td>\n",
       "      <td>cat</td>\n",
       "      <td>Milan</td>\n",
       "    </tr>\n",
       "    <tr>\n",
       "      <th>3</th>\n",
       "      <td>100</td>\n",
       "      <td>pig</td>\n",
       "      <td>6</td>\n",
       "      <td>Empty</td>\n",
       "      <td>Empty</td>\n",
       "    </tr>\n",
       "    <tr>\n",
       "      <th>4</th>\n",
       "      <td>400</td>\n",
       "      <td>horse</td>\n",
       "      <td>3</td>\n",
       "      <td>Empty</td>\n",
       "      <td>Empty</td>\n",
       "    </tr>\n",
       "  </tbody>\n",
       "</table>\n",
       "</div>"
      ],
      "text/plain": [
       "   weight animal  age   name    town\n",
       "0      14    dog   10    dog  London\n",
       "1      14    dog   10    dog   Paris\n",
       "2       4    cat   15    cat   Milan\n",
       "3     100    pig    6  Empty   Empty\n",
       "4     400  horse    3  Empty   Empty"
      ]
     },
     "execution_count": 187,
     "metadata": {},
     "output_type": "execute_result"
    }
   ],
   "source": [
    "df_left_merge.head()"
   ]
  },
  {
   "cell_type": "code",
   "execution_count": 188,
   "metadata": {
    "collapsed": true
   },
   "outputs": [],
   "source": [
    "df_left_merge = get_left_merged(df_animals, df_to_merge)"
   ]
  },
  {
   "cell_type": "code",
   "execution_count": 189,
   "metadata": {},
   "outputs": [
    {
     "data": {
      "text/html": [
       "<div>\n",
       "<table border=\"1\" class=\"dataframe\">\n",
       "  <thead>\n",
       "    <tr style=\"text-align: right;\">\n",
       "      <th></th>\n",
       "      <th>weight</th>\n",
       "      <th>animal</th>\n",
       "      <th>age</th>\n",
       "      <th>name</th>\n",
       "      <th>town</th>\n",
       "    </tr>\n",
       "  </thead>\n",
       "  <tbody>\n",
       "    <tr>\n",
       "      <th>0</th>\n",
       "      <td>14</td>\n",
       "      <td>dog</td>\n",
       "      <td>10</td>\n",
       "      <td>dog</td>\n",
       "      <td>London</td>\n",
       "    </tr>\n",
       "    <tr>\n",
       "      <th>1</th>\n",
       "      <td>14</td>\n",
       "      <td>dog</td>\n",
       "      <td>10</td>\n",
       "      <td>dog</td>\n",
       "      <td>Paris</td>\n",
       "    </tr>\n",
       "    <tr>\n",
       "      <th>2</th>\n",
       "      <td>4</td>\n",
       "      <td>cat</td>\n",
       "      <td>15</td>\n",
       "      <td>cat</td>\n",
       "      <td>Milan</td>\n",
       "    </tr>\n",
       "    <tr>\n",
       "      <th>3</th>\n",
       "      <td>100</td>\n",
       "      <td>pig</td>\n",
       "      <td>6</td>\n",
       "      <td>NaN</td>\n",
       "      <td>NaN</td>\n",
       "    </tr>\n",
       "    <tr>\n",
       "      <th>4</th>\n",
       "      <td>400</td>\n",
       "      <td>horse</td>\n",
       "      <td>3</td>\n",
       "      <td>NaN</td>\n",
       "      <td>NaN</td>\n",
       "    </tr>\n",
       "  </tbody>\n",
       "</table>\n",
       "</div>"
      ],
      "text/plain": [
       "   weight animal  age name    town\n",
       "0      14    dog   10  dog  London\n",
       "1      14    dog   10  dog   Paris\n",
       "2       4    cat   15  cat   Milan\n",
       "3     100    pig    6  NaN     NaN\n",
       "4     400  horse    3  NaN     NaN"
      ]
     },
     "execution_count": 189,
     "metadata": {},
     "output_type": "execute_result"
    }
   ],
   "source": [
    "df_left_merge.head()"
   ]
  },
  {
   "cell_type": "code",
   "execution_count": 190,
   "metadata": {},
   "outputs": [
    {
     "data": {
      "text/html": [
       "<div>\n",
       "<table border=\"1\" class=\"dataframe\">\n",
       "  <thead>\n",
       "    <tr style=\"text-align: right;\">\n",
       "      <th></th>\n",
       "      <th>weight</th>\n",
       "      <th>animal</th>\n",
       "      <th>age</th>\n",
       "      <th>name</th>\n",
       "      <th>town</th>\n",
       "    </tr>\n",
       "  </thead>\n",
       "  <tbody>\n",
       "    <tr>\n",
       "      <th>0</th>\n",
       "      <td>14</td>\n",
       "      <td>dog</td>\n",
       "      <td>10</td>\n",
       "      <td>dog</td>\n",
       "      <td>London</td>\n",
       "    </tr>\n",
       "    <tr>\n",
       "      <th>1</th>\n",
       "      <td>14</td>\n",
       "      <td>dog</td>\n",
       "      <td>10</td>\n",
       "      <td>dog</td>\n",
       "      <td>Paris</td>\n",
       "    </tr>\n",
       "    <tr>\n",
       "      <th>2</th>\n",
       "      <td>4</td>\n",
       "      <td>cat</td>\n",
       "      <td>15</td>\n",
       "      <td>cat</td>\n",
       "      <td>Milan</td>\n",
       "    </tr>\n",
       "  </tbody>\n",
       "</table>\n",
       "</div>"
      ],
      "text/plain": [
       "   weight animal  age name    town\n",
       "0      14    dog   10  dog  London\n",
       "1      14    dog   10  dog   Paris\n",
       "2       4    cat   15  cat   Milan"
      ]
     },
     "execution_count": 190,
     "metadata": {},
     "output_type": "execute_result"
    }
   ],
   "source": [
    "# -- slice for non NaN for specific column\n",
    "df_non_nan = df_left_merge[df_left_merge['name'].isnull()==False]\n",
    "df_non_nan.head()"
   ]
  },
  {
   "cell_type": "code",
   "execution_count": 191,
   "metadata": {},
   "outputs": [
    {
     "data": {
      "text/html": [
       "<div>\n",
       "<table border=\"1\" class=\"dataframe\">\n",
       "  <thead>\n",
       "    <tr style=\"text-align: right;\">\n",
       "      <th></th>\n",
       "      <th>weight</th>\n",
       "      <th>animal</th>\n",
       "      <th>age</th>\n",
       "      <th>name</th>\n",
       "      <th>town</th>\n",
       "    </tr>\n",
       "  </thead>\n",
       "  <tbody>\n",
       "    <tr>\n",
       "      <th>0</th>\n",
       "      <td>14</td>\n",
       "      <td>dog</td>\n",
       "      <td>10</td>\n",
       "      <td>dog</td>\n",
       "      <td>London</td>\n",
       "    </tr>\n",
       "    <tr>\n",
       "      <th>1</th>\n",
       "      <td>14</td>\n",
       "      <td>dog</td>\n",
       "      <td>10</td>\n",
       "      <td>dog</td>\n",
       "      <td>Paris</td>\n",
       "    </tr>\n",
       "    <tr>\n",
       "      <th>2</th>\n",
       "      <td>4</td>\n",
       "      <td>cat</td>\n",
       "      <td>15</td>\n",
       "      <td>cat</td>\n",
       "      <td>Milan</td>\n",
       "    </tr>\n",
       "  </tbody>\n",
       "</table>\n",
       "</div>"
      ],
      "text/plain": [
       "   weight animal  age name    town\n",
       "0      14    dog   10  dog  London\n",
       "1      14    dog   10  dog   Paris\n",
       "2       4    cat   15  cat   Milan"
      ]
     },
     "execution_count": 191,
     "metadata": {},
     "output_type": "execute_result"
    }
   ],
   "source": [
    "# -- slice for non NaN for all columns\n",
    "df_non_nan = df_left_merge[(df_left_merge['name'].isnull()==False)&(df_left_merge['town'].isnull()==False)]\n",
    "df_non_nan.head()"
   ]
  },
  {
   "cell_type": "code",
   "execution_count": 192,
   "metadata": {
    "collapsed": true
   },
   "outputs": [],
   "source": [
    "# -- dates"
   ]
  },
  {
   "cell_type": "code",
   "execution_count": 193,
   "metadata": {
    "collapsed": true
   },
   "outputs": [],
   "source": [
    "# -- make a small dataframe simulating piece produced timestamp\n",
    "def get_piece_done_df():\n",
    "    list_columns = ['spec', 'time_produced']\n",
    "    list_data = [\n",
    "        ['14', dt.datetime(2016, 9, 3, 11, 30, 50)],\n",
    "        ['14', dt.datetime(2016, 9, 3, 11, 32, 59)],\n",
    "        ['14', dt.datetime(2016, 9, 3, 11, 38, 43)],\n",
    "        ['14', dt.datetime(2016, 9, 3, 11, 41, 34)],\n",
    "        ['14', dt.datetime(2016, 9, 3, 11, 43, 50)],\n",
    "        ['14', dt.datetime(2016, 9, 3, 11, 49, 6)]\n",
    "        ]\n",
    "    return pd.DataFrame(columns=list_columns, data=list_data)"
   ]
  },
  {
   "cell_type": "code",
   "execution_count": 194,
   "metadata": {},
   "outputs": [
    {
     "data": {
      "text/html": [
       "<div>\n",
       "<table border=\"1\" class=\"dataframe\">\n",
       "  <thead>\n",
       "    <tr style=\"text-align: right;\">\n",
       "      <th></th>\n",
       "      <th>spec</th>\n",
       "      <th>time_produced</th>\n",
       "    </tr>\n",
       "  </thead>\n",
       "  <tbody>\n",
       "    <tr>\n",
       "      <th>0</th>\n",
       "      <td>14</td>\n",
       "      <td>2016-09-03 11:30:50</td>\n",
       "    </tr>\n",
       "    <tr>\n",
       "      <th>1</th>\n",
       "      <td>14</td>\n",
       "      <td>2016-09-03 11:32:59</td>\n",
       "    </tr>\n",
       "    <tr>\n",
       "      <th>2</th>\n",
       "      <td>14</td>\n",
       "      <td>2016-09-03 11:38:43</td>\n",
       "    </tr>\n",
       "    <tr>\n",
       "      <th>3</th>\n",
       "      <td>14</td>\n",
       "      <td>2016-09-03 11:41:34</td>\n",
       "    </tr>\n",
       "    <tr>\n",
       "      <th>4</th>\n",
       "      <td>14</td>\n",
       "      <td>2016-09-03 11:43:50</td>\n",
       "    </tr>\n",
       "    <tr>\n",
       "      <th>5</th>\n",
       "      <td>14</td>\n",
       "      <td>2016-09-03 11:49:06</td>\n",
       "    </tr>\n",
       "  </tbody>\n",
       "</table>\n",
       "</div>"
      ],
      "text/plain": [
       "  spec       time_produced\n",
       "0   14 2016-09-03 11:30:50\n",
       "1   14 2016-09-03 11:32:59\n",
       "2   14 2016-09-03 11:38:43\n",
       "3   14 2016-09-03 11:41:34\n",
       "4   14 2016-09-03 11:43:50\n",
       "5   14 2016-09-03 11:49:06"
      ]
     },
     "execution_count": 194,
     "metadata": {},
     "output_type": "execute_result"
    }
   ],
   "source": [
    "df_piece_done = get_piece_done_df()\n",
    "df_piece_done.head(10)"
   ]
  },
  {
   "cell_type": "code",
   "execution_count": 195,
   "metadata": {},
   "outputs": [
    {
     "data": {
      "text/html": [
       "<div>\n",
       "<table border=\"1\" class=\"dataframe\">\n",
       "  <thead>\n",
       "    <tr style=\"text-align: right;\">\n",
       "      <th></th>\n",
       "      <th>spec</th>\n",
       "      <th>time_produced</th>\n",
       "      <th>time_next_produced</th>\n",
       "    </tr>\n",
       "  </thead>\n",
       "  <tbody>\n",
       "    <tr>\n",
       "      <th>0</th>\n",
       "      <td>14</td>\n",
       "      <td>2016-09-03 11:30:50</td>\n",
       "      <td>2016-09-03 11:32:59</td>\n",
       "    </tr>\n",
       "    <tr>\n",
       "      <th>1</th>\n",
       "      <td>14</td>\n",
       "      <td>2016-09-03 11:32:59</td>\n",
       "      <td>2016-09-03 11:38:43</td>\n",
       "    </tr>\n",
       "    <tr>\n",
       "      <th>2</th>\n",
       "      <td>14</td>\n",
       "      <td>2016-09-03 11:38:43</td>\n",
       "      <td>2016-09-03 11:41:34</td>\n",
       "    </tr>\n",
       "    <tr>\n",
       "      <th>3</th>\n",
       "      <td>14</td>\n",
       "      <td>2016-09-03 11:41:34</td>\n",
       "      <td>2016-09-03 11:43:50</td>\n",
       "    </tr>\n",
       "    <tr>\n",
       "      <th>4</th>\n",
       "      <td>14</td>\n",
       "      <td>2016-09-03 11:43:50</td>\n",
       "      <td>2016-09-03 11:49:06</td>\n",
       "    </tr>\n",
       "  </tbody>\n",
       "</table>\n",
       "</div>"
      ],
      "text/plain": [
       "  spec       time_produced  time_next_produced\n",
       "0   14 2016-09-03 11:30:50 2016-09-03 11:32:59\n",
       "1   14 2016-09-03 11:32:59 2016-09-03 11:38:43\n",
       "2   14 2016-09-03 11:38:43 2016-09-03 11:41:34\n",
       "3   14 2016-09-03 11:41:34 2016-09-03 11:43:50\n",
       "4   14 2016-09-03 11:43:50 2016-09-03 11:49:06"
      ]
     },
     "execution_count": 195,
     "metadata": {},
     "output_type": "execute_result"
    }
   ],
   "source": [
    "# -- shift the times up to get the time of the successive piece\n",
    "df_piece_done['time_next_produced']=df_piece_done['time_produced'].shift(-1)\n",
    "df_piece_done.head()"
   ]
  },
  {
   "cell_type": "code",
   "execution_count": 196,
   "metadata": {},
   "outputs": [
    {
     "data": {
      "text/html": [
       "<div>\n",
       "<table border=\"1\" class=\"dataframe\">\n",
       "  <thead>\n",
       "    <tr style=\"text-align: right;\">\n",
       "      <th></th>\n",
       "      <th>spec</th>\n",
       "      <th>time_produced</th>\n",
       "      <th>time_next_produced</th>\n",
       "      <th>time_delta</th>\n",
       "    </tr>\n",
       "  </thead>\n",
       "  <tbody>\n",
       "    <tr>\n",
       "      <th>0</th>\n",
       "      <td>14</td>\n",
       "      <td>2016-09-03 11:30:50</td>\n",
       "      <td>2016-09-03 11:32:59</td>\n",
       "      <td>00:02:09</td>\n",
       "    </tr>\n",
       "    <tr>\n",
       "      <th>1</th>\n",
       "      <td>14</td>\n",
       "      <td>2016-09-03 11:32:59</td>\n",
       "      <td>2016-09-03 11:38:43</td>\n",
       "      <td>00:05:44</td>\n",
       "    </tr>\n",
       "    <tr>\n",
       "      <th>2</th>\n",
       "      <td>14</td>\n",
       "      <td>2016-09-03 11:38:43</td>\n",
       "      <td>2016-09-03 11:41:34</td>\n",
       "      <td>00:02:51</td>\n",
       "    </tr>\n",
       "    <tr>\n",
       "      <th>3</th>\n",
       "      <td>14</td>\n",
       "      <td>2016-09-03 11:41:34</td>\n",
       "      <td>2016-09-03 11:43:50</td>\n",
       "      <td>00:02:16</td>\n",
       "    </tr>\n",
       "    <tr>\n",
       "      <th>4</th>\n",
       "      <td>14</td>\n",
       "      <td>2016-09-03 11:43:50</td>\n",
       "      <td>2016-09-03 11:49:06</td>\n",
       "      <td>00:05:16</td>\n",
       "    </tr>\n",
       "    <tr>\n",
       "      <th>5</th>\n",
       "      <td>14</td>\n",
       "      <td>2016-09-03 11:49:06</td>\n",
       "      <td>NaT</td>\n",
       "      <td>NaT</td>\n",
       "    </tr>\n",
       "  </tbody>\n",
       "</table>\n",
       "</div>"
      ],
      "text/plain": [
       "  spec       time_produced  time_next_produced  time_delta\n",
       "0   14 2016-09-03 11:30:50 2016-09-03 11:32:59    00:02:09\n",
       "1   14 2016-09-03 11:32:59 2016-09-03 11:38:43    00:05:44\n",
       "2   14 2016-09-03 11:38:43 2016-09-03 11:41:34    00:02:51\n",
       "3   14 2016-09-03 11:41:34 2016-09-03 11:43:50    00:02:16\n",
       "4   14 2016-09-03 11:43:50 2016-09-03 11:49:06    00:05:16\n",
       "5   14 2016-09-03 11:49:06                 NaT         NaT"
      ]
     },
     "execution_count": 196,
     "metadata": {},
     "output_type": "execute_result"
    }
   ],
   "source": [
    "# -- make time delta\n",
    "df_piece_done['time_delta']=df_piece_done['time_next_produced']-df_piece_done['time_produced']\n",
    "df_piece_done.head(10)"
   ]
  },
  {
   "cell_type": "code",
   "execution_count": 197,
   "metadata": {
    "collapsed": true
   },
   "outputs": [],
   "source": [
    "# -- remove the NaT\n",
    "df_piece_done = df_piece_done[df_piece_done['time_delta'].isnull()==False]"
   ]
  },
  {
   "cell_type": "code",
   "execution_count": 198,
   "metadata": {},
   "outputs": [
    {
     "data": {
      "text/html": [
       "<div>\n",
       "<table border=\"1\" class=\"dataframe\">\n",
       "  <thead>\n",
       "    <tr style=\"text-align: right;\">\n",
       "      <th></th>\n",
       "      <th>spec</th>\n",
       "      <th>time_produced</th>\n",
       "      <th>time_next_produced</th>\n",
       "      <th>time_delta</th>\n",
       "    </tr>\n",
       "  </thead>\n",
       "  <tbody>\n",
       "    <tr>\n",
       "      <th>0</th>\n",
       "      <td>14</td>\n",
       "      <td>2016-09-03 11:30:50</td>\n",
       "      <td>2016-09-03 11:32:59</td>\n",
       "      <td>00:02:09</td>\n",
       "    </tr>\n",
       "    <tr>\n",
       "      <th>1</th>\n",
       "      <td>14</td>\n",
       "      <td>2016-09-03 11:32:59</td>\n",
       "      <td>2016-09-03 11:38:43</td>\n",
       "      <td>00:05:44</td>\n",
       "    </tr>\n",
       "    <tr>\n",
       "      <th>2</th>\n",
       "      <td>14</td>\n",
       "      <td>2016-09-03 11:38:43</td>\n",
       "      <td>2016-09-03 11:41:34</td>\n",
       "      <td>00:02:51</td>\n",
       "    </tr>\n",
       "    <tr>\n",
       "      <th>3</th>\n",
       "      <td>14</td>\n",
       "      <td>2016-09-03 11:41:34</td>\n",
       "      <td>2016-09-03 11:43:50</td>\n",
       "      <td>00:02:16</td>\n",
       "    </tr>\n",
       "    <tr>\n",
       "      <th>4</th>\n",
       "      <td>14</td>\n",
       "      <td>2016-09-03 11:43:50</td>\n",
       "      <td>2016-09-03 11:49:06</td>\n",
       "      <td>00:05:16</td>\n",
       "    </tr>\n",
       "  </tbody>\n",
       "</table>\n",
       "</div>"
      ],
      "text/plain": [
       "  spec       time_produced  time_next_produced  time_delta\n",
       "0   14 2016-09-03 11:30:50 2016-09-03 11:32:59    00:02:09\n",
       "1   14 2016-09-03 11:32:59 2016-09-03 11:38:43    00:05:44\n",
       "2   14 2016-09-03 11:38:43 2016-09-03 11:41:34    00:02:51\n",
       "3   14 2016-09-03 11:41:34 2016-09-03 11:43:50    00:02:16\n",
       "4   14 2016-09-03 11:43:50 2016-09-03 11:49:06    00:05:16"
      ]
     },
     "execution_count": 198,
     "metadata": {},
     "output_type": "execute_result"
    }
   ],
   "source": [
    "df_piece_done.head(10)"
   ]
  },
  {
   "cell_type": "code",
   "execution_count": 199,
   "metadata": {},
   "outputs": [
    {
     "data": {
      "text/html": [
       "<div>\n",
       "<table border=\"1\" class=\"dataframe\">\n",
       "  <thead>\n",
       "    <tr style=\"text-align: right;\">\n",
       "      <th></th>\n",
       "      <th>spec</th>\n",
       "      <th>time_produced</th>\n",
       "      <th>time_next_produced</th>\n",
       "      <th>time_delta</th>\n",
       "      <th>time_delta_seconds</th>\n",
       "    </tr>\n",
       "  </thead>\n",
       "  <tbody>\n",
       "    <tr>\n",
       "      <th>0</th>\n",
       "      <td>14</td>\n",
       "      <td>2016-09-03 11:30:50</td>\n",
       "      <td>2016-09-03 11:32:59</td>\n",
       "      <td>00:02:09</td>\n",
       "      <td>129</td>\n",
       "    </tr>\n",
       "    <tr>\n",
       "      <th>1</th>\n",
       "      <td>14</td>\n",
       "      <td>2016-09-03 11:32:59</td>\n",
       "      <td>2016-09-03 11:38:43</td>\n",
       "      <td>00:05:44</td>\n",
       "      <td>344</td>\n",
       "    </tr>\n",
       "    <tr>\n",
       "      <th>2</th>\n",
       "      <td>14</td>\n",
       "      <td>2016-09-03 11:38:43</td>\n",
       "      <td>2016-09-03 11:41:34</td>\n",
       "      <td>00:02:51</td>\n",
       "      <td>171</td>\n",
       "    </tr>\n",
       "    <tr>\n",
       "      <th>3</th>\n",
       "      <td>14</td>\n",
       "      <td>2016-09-03 11:41:34</td>\n",
       "      <td>2016-09-03 11:43:50</td>\n",
       "      <td>00:02:16</td>\n",
       "      <td>136</td>\n",
       "    </tr>\n",
       "    <tr>\n",
       "      <th>4</th>\n",
       "      <td>14</td>\n",
       "      <td>2016-09-03 11:43:50</td>\n",
       "      <td>2016-09-03 11:49:06</td>\n",
       "      <td>00:05:16</td>\n",
       "      <td>316</td>\n",
       "    </tr>\n",
       "  </tbody>\n",
       "</table>\n",
       "</div>"
      ],
      "text/plain": [
       "  spec       time_produced  time_next_produced  time_delta  time_delta_seconds\n",
       "0   14 2016-09-03 11:30:50 2016-09-03 11:32:59    00:02:09                 129\n",
       "1   14 2016-09-03 11:32:59 2016-09-03 11:38:43    00:05:44                 344\n",
       "2   14 2016-09-03 11:38:43 2016-09-03 11:41:34    00:02:51                 171\n",
       "3   14 2016-09-03 11:41:34 2016-09-03 11:43:50    00:02:16                 136\n",
       "4   14 2016-09-03 11:43:50 2016-09-03 11:49:06    00:05:16                 316"
      ]
     },
     "execution_count": 199,
     "metadata": {},
     "output_type": "execute_result"
    }
   ],
   "source": [
    "# -- convert delta into seconds\n",
    "gimme_seconds = lambda x: x / np.timedelta64(1, 's')\n",
    "df_piece_done['time_delta_seconds'] = df_piece_done['time_delta'] .apply(gimme_seconds)\n",
    "df_piece_done.head(10)"
   ]
  },
  {
   "cell_type": "code",
   "execution_count": 200,
   "metadata": {},
   "outputs": [
    {
     "data": {
      "text/plain": [
       "spec                           object\n",
       "time_produced          datetime64[ns]\n",
       "time_next_produced     datetime64[ns]\n",
       "time_delta            timedelta64[ns]\n",
       "time_delta_seconds            float64\n",
       "dtype: object"
      ]
     },
     "execution_count": 200,
     "metadata": {},
     "output_type": "execute_result"
    }
   ],
   "source": [
    "# -- convert dates to strings\n",
    "df_piece_done.dtypes"
   ]
  },
  {
   "cell_type": "code",
   "execution_count": 201,
   "metadata": {},
   "outputs": [
    {
     "data": {
      "text/html": [
       "<div>\n",
       "<table border=\"1\" class=\"dataframe\">\n",
       "  <thead>\n",
       "    <tr style=\"text-align: right;\">\n",
       "      <th></th>\n",
       "      <th>spec</th>\n",
       "      <th>time_produced</th>\n",
       "      <th>time_next_produced</th>\n",
       "      <th>time_delta</th>\n",
       "      <th>time_delta_seconds</th>\n",
       "      <th>time_produced_string</th>\n",
       "    </tr>\n",
       "  </thead>\n",
       "  <tbody>\n",
       "    <tr>\n",
       "      <th>0</th>\n",
       "      <td>14</td>\n",
       "      <td>2016-09-03 11:30:50</td>\n",
       "      <td>2016-09-03 11:32:59</td>\n",
       "      <td>00:02:09</td>\n",
       "      <td>129</td>\n",
       "      <td>2016-09-03 11:30:50</td>\n",
       "    </tr>\n",
       "    <tr>\n",
       "      <th>1</th>\n",
       "      <td>14</td>\n",
       "      <td>2016-09-03 11:32:59</td>\n",
       "      <td>2016-09-03 11:38:43</td>\n",
       "      <td>00:05:44</td>\n",
       "      <td>344</td>\n",
       "      <td>2016-09-03 11:32:59</td>\n",
       "    </tr>\n",
       "    <tr>\n",
       "      <th>2</th>\n",
       "      <td>14</td>\n",
       "      <td>2016-09-03 11:38:43</td>\n",
       "      <td>2016-09-03 11:41:34</td>\n",
       "      <td>00:02:51</td>\n",
       "      <td>171</td>\n",
       "      <td>2016-09-03 11:38:43</td>\n",
       "    </tr>\n",
       "    <tr>\n",
       "      <th>3</th>\n",
       "      <td>14</td>\n",
       "      <td>2016-09-03 11:41:34</td>\n",
       "      <td>2016-09-03 11:43:50</td>\n",
       "      <td>00:02:16</td>\n",
       "      <td>136</td>\n",
       "      <td>2016-09-03 11:41:34</td>\n",
       "    </tr>\n",
       "    <tr>\n",
       "      <th>4</th>\n",
       "      <td>14</td>\n",
       "      <td>2016-09-03 11:43:50</td>\n",
       "      <td>2016-09-03 11:49:06</td>\n",
       "      <td>00:05:16</td>\n",
       "      <td>316</td>\n",
       "      <td>2016-09-03 11:43:50</td>\n",
       "    </tr>\n",
       "  </tbody>\n",
       "</table>\n",
       "</div>"
      ],
      "text/plain": [
       "  spec       time_produced  time_next_produced  time_delta  \\\n",
       "0   14 2016-09-03 11:30:50 2016-09-03 11:32:59    00:02:09   \n",
       "1   14 2016-09-03 11:32:59 2016-09-03 11:38:43    00:05:44   \n",
       "2   14 2016-09-03 11:38:43 2016-09-03 11:41:34    00:02:51   \n",
       "3   14 2016-09-03 11:41:34 2016-09-03 11:43:50    00:02:16   \n",
       "4   14 2016-09-03 11:43:50 2016-09-03 11:49:06    00:05:16   \n",
       "\n",
       "   time_delta_seconds time_produced_string  \n",
       "0                 129  2016-09-03 11:30:50  \n",
       "1                 344  2016-09-03 11:32:59  \n",
       "2                 171  2016-09-03 11:38:43  \n",
       "3                 136  2016-09-03 11:41:34  \n",
       "4                 316  2016-09-03 11:43:50  "
      ]
     },
     "execution_count": 201,
     "metadata": {},
     "output_type": "execute_result"
    }
   ],
   "source": [
    "df_piece_done['time_produced_string']= [x.strftime(\"%Y-%m-%d %H:%M:%S\") for x in df_piece_done['time_produced']]\n",
    "df_piece_done.head(10)"
   ]
  },
  {
   "cell_type": "code",
   "execution_count": 202,
   "metadata": {},
   "outputs": [
    {
     "data": {
      "text/plain": [
       "spec                             object\n",
       "time_produced            datetime64[ns]\n",
       "time_next_produced       datetime64[ns]\n",
       "time_delta              timedelta64[ns]\n",
       "time_delta_seconds              float64\n",
       "time_produced_string             object\n",
       "dtype: object"
      ]
     },
     "execution_count": 202,
     "metadata": {},
     "output_type": "execute_result"
    }
   ],
   "source": [
    "df_piece_done.dtypes"
   ]
  },
  {
   "cell_type": "code",
   "execution_count": 203,
   "metadata": {
    "collapsed": true
   },
   "outputs": [],
   "source": [
    "# add on week number, month, week day, month number columns\n",
    "df_piece_done['wk_num'] = [x.isocalendar()[1] for x in df_piece_done['time_produced']]\n",
    "df_piece_done['year'] = [x.isocalendar()[0] for x in df_piece_done['time_produced']]\n",
    "df_piece_done['wk_day'] = [x.isocalendar()[2] for x in df_piece_done['time_produced']]\n",
    "df_piece_done['month'] = [x.month for x in df_piece_done['time_produced']]"
   ]
  },
  {
   "cell_type": "code",
   "execution_count": 204,
   "metadata": {},
   "outputs": [
    {
     "data": {
      "text/html": [
       "<div>\n",
       "<table border=\"1\" class=\"dataframe\">\n",
       "  <thead>\n",
       "    <tr style=\"text-align: right;\">\n",
       "      <th></th>\n",
       "      <th>spec</th>\n",
       "      <th>time_produced</th>\n",
       "      <th>time_next_produced</th>\n",
       "      <th>time_delta</th>\n",
       "      <th>time_delta_seconds</th>\n",
       "      <th>time_produced_string</th>\n",
       "      <th>wk_num</th>\n",
       "      <th>year</th>\n",
       "      <th>wk_day</th>\n",
       "      <th>month</th>\n",
       "    </tr>\n",
       "  </thead>\n",
       "  <tbody>\n",
       "    <tr>\n",
       "      <th>0</th>\n",
       "      <td>14</td>\n",
       "      <td>2016-09-03 11:30:50</td>\n",
       "      <td>2016-09-03 11:32:59</td>\n",
       "      <td>00:02:09</td>\n",
       "      <td>129</td>\n",
       "      <td>2016-09-03 11:30:50</td>\n",
       "      <td>35</td>\n",
       "      <td>2016</td>\n",
       "      <td>6</td>\n",
       "      <td>9</td>\n",
       "    </tr>\n",
       "    <tr>\n",
       "      <th>1</th>\n",
       "      <td>14</td>\n",
       "      <td>2016-09-03 11:32:59</td>\n",
       "      <td>2016-09-03 11:38:43</td>\n",
       "      <td>00:05:44</td>\n",
       "      <td>344</td>\n",
       "      <td>2016-09-03 11:32:59</td>\n",
       "      <td>35</td>\n",
       "      <td>2016</td>\n",
       "      <td>6</td>\n",
       "      <td>9</td>\n",
       "    </tr>\n",
       "    <tr>\n",
       "      <th>2</th>\n",
       "      <td>14</td>\n",
       "      <td>2016-09-03 11:38:43</td>\n",
       "      <td>2016-09-03 11:41:34</td>\n",
       "      <td>00:02:51</td>\n",
       "      <td>171</td>\n",
       "      <td>2016-09-03 11:38:43</td>\n",
       "      <td>35</td>\n",
       "      <td>2016</td>\n",
       "      <td>6</td>\n",
       "      <td>9</td>\n",
       "    </tr>\n",
       "    <tr>\n",
       "      <th>3</th>\n",
       "      <td>14</td>\n",
       "      <td>2016-09-03 11:41:34</td>\n",
       "      <td>2016-09-03 11:43:50</td>\n",
       "      <td>00:02:16</td>\n",
       "      <td>136</td>\n",
       "      <td>2016-09-03 11:41:34</td>\n",
       "      <td>35</td>\n",
       "      <td>2016</td>\n",
       "      <td>6</td>\n",
       "      <td>9</td>\n",
       "    </tr>\n",
       "    <tr>\n",
       "      <th>4</th>\n",
       "      <td>14</td>\n",
       "      <td>2016-09-03 11:43:50</td>\n",
       "      <td>2016-09-03 11:49:06</td>\n",
       "      <td>00:05:16</td>\n",
       "      <td>316</td>\n",
       "      <td>2016-09-03 11:43:50</td>\n",
       "      <td>35</td>\n",
       "      <td>2016</td>\n",
       "      <td>6</td>\n",
       "      <td>9</td>\n",
       "    </tr>\n",
       "  </tbody>\n",
       "</table>\n",
       "</div>"
      ],
      "text/plain": [
       "  spec       time_produced  time_next_produced  time_delta  \\\n",
       "0   14 2016-09-03 11:30:50 2016-09-03 11:32:59    00:02:09   \n",
       "1   14 2016-09-03 11:32:59 2016-09-03 11:38:43    00:05:44   \n",
       "2   14 2016-09-03 11:38:43 2016-09-03 11:41:34    00:02:51   \n",
       "3   14 2016-09-03 11:41:34 2016-09-03 11:43:50    00:02:16   \n",
       "4   14 2016-09-03 11:43:50 2016-09-03 11:49:06    00:05:16   \n",
       "\n",
       "   time_delta_seconds time_produced_string  wk_num  year  wk_day  month  \n",
       "0                 129  2016-09-03 11:30:50      35  2016       6      9  \n",
       "1                 344  2016-09-03 11:32:59      35  2016       6      9  \n",
       "2                 171  2016-09-03 11:38:43      35  2016       6      9  \n",
       "3                 136  2016-09-03 11:41:34      35  2016       6      9  \n",
       "4                 316  2016-09-03 11:43:50      35  2016       6      9  "
      ]
     },
     "execution_count": 204,
     "metadata": {},
     "output_type": "execute_result"
    }
   ],
   "source": [
    "df_piece_done.head(10)"
   ]
  },
  {
   "cell_type": "code",
   "execution_count": null,
   "metadata": {
    "collapsed": true
   },
   "outputs": [],
   "source": []
  },
  {
   "cell_type": "code",
   "execution_count": null,
   "metadata": {
    "collapsed": true
   },
   "outputs": [],
   "source": []
  }
 ],
 "metadata": {
  "kernelspec": {
   "display_name": "Python 2",
   "language": "python",
   "name": "python2"
  },
  "language_info": {
   "codemirror_mode": {
    "name": "ipython",
    "version": 2
   },
   "file_extension": ".py",
   "mimetype": "text/x-python",
   "name": "python",
   "nbconvert_exporter": "python",
   "pygments_lexer": "ipython2",
   "version": "2.7.14"
  }
 },
 "nbformat": 4,
 "nbformat_minor": 1
}
